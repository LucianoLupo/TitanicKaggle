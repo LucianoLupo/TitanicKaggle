{
 "cells": [
  {
   "cell_type": "markdown",
   "metadata": {},
   "source": [
    "# Completado del Tutorial introductorio de DataCamp con el Dataset de Titanic de Kaggle\n",
    "\n",
    "\n"
   ]
  },
  {
   "cell_type": "code",
   "execution_count": null,
   "metadata": {
    "collapsed": true
   },
   "outputs": [],
   "source": [
    "# Import the Pandas library\n",
    "import pandas as pd\n",
    "import sys\n",
    "\n",
    "# Load the train and test datasets to create two DataFrames\n",
    "train_url = \"http://s3.amazonaws.com/assets.datacamp.com/course/Kaggle/train.csv\"\n",
    "train = pd.read_csv(train_url)\n",
    "\n",
    "\n",
    "test_url = \"http://s3.amazonaws.com/assets.datacamp.com/course/Kaggle/test.csv\"\n",
    "test = pd.read_csv(test_url)\n",
    "\n",
    "\n"
   ]
  },
  {
   "cell_type": "code",
   "execution_count": null,
   "metadata": {
    "collapsed": true,
    "scrolled": false
   },
   "outputs": [],
   "source": []
  },
  {
   "cell_type": "code",
   "execution_count": null,
   "metadata": {},
   "outputs": [],
   "source": [
    "# Create the column Child and assign to 0\n",
    "ttest=test.copy()\n",
    "ttrain=train.copy()\n",
    "\n",
    "ttrain[\"Child\"] = 0\n",
    "# Assign 1 to passengers under 18, 0 to those 18 or older. Print the new column.\n",
    "\n",
    "\n",
    "\n",
    "ttrain[\"Child\"][ttrain[\"Age\"] < 18] = 1\n",
    "ttrain[\"Child\"][ttrain[\"Age\"] > 18] = 0\n",
    "ttrain[\"Child\"][ttrain[\"Age\"] == 18] = 0\n",
    "\n"
   ]
  },
  {
   "cell_type": "code",
   "execution_count": null,
   "metadata": {
    "collapsed": true
   },
   "outputs": [],
   "source": []
  },
  {
   "cell_type": "code",
   "execution_count": null,
   "metadata": {
    "collapsed": true
   },
   "outputs": [],
   "source": [
    "# Import the Numpy library\n",
    "import numpy as np\n",
    "\n",
    "# Import 'tree' from scikit-learn library\n",
    "from sklearn import tree"
   ]
  },
  {
   "cell_type": "code",
   "execution_count": null,
   "metadata": {},
   "outputs": [],
   "source": [
    "# Convert the male and female groups to integer form\n",
    "ttrain[\"Sex\"][ttrain[\"Sex\"] == \"male\"] = 0\n",
    "ttrain[\"Sex\"][ttrain[\"Sex\"] == \"female\"] = 1\n",
    "# Impute the Embarked variable\n",
    "ttrain[\"Embarked\"] = ttrain[\"Embarked\"].fillna(\"S\")\n",
    "\n",
    "# Convert the Embarked classes to integer form\n",
    "ttrain[\"Embarked\"][ttrain[\"Embarked\"] == \"S\"] = 0\n",
    "ttrain[\"Embarked\"][ttrain[\"Embarked\"] == \"C\"] = 1\n",
    "ttrain[\"Embarked\"][ttrain[\"Embarked\"] == \"Q\"] = 2"
   ]
  },
  {
   "cell_type": "code",
   "execution_count": null,
   "metadata": {},
   "outputs": [],
   "source": [
    "## Print the train data to see the available features\n",
    "\n",
    "ttrain[\"Age\"] = ttrain[\"Age\"].fillna(ttrain[\"Age\"].median())\n",
    "#print(train)\n",
    "\n",
    "## Create the target and features numpy arrays: target, features_one\n",
    "target = ttrain[\"Survived\"].values\n",
    "features_one = ttrain[[\"Pclass\", \"Sex\", \"Age\", \"Fare\"]].values\n",
    "\n",
    "## Fit your first decision tree: my_tree_one\n",
    "my_tree_one = tree.DecisionTreeClassifier()\n",
    "my_tree_one = my_tree_one.fit(features_one, target)\n"
   ]
  },
  {
   "cell_type": "code",
   "execution_count": null,
   "metadata": {},
   "outputs": [],
   "source": [
    "# Impute the missing value with the median\n",
    "ttest.Fare[152] = ttest.Fare.median()\n",
    "\n",
    "ttest[\"Age\"] = ttest[\"Age\"].fillna(ttest[\"Age\"].median())\n",
    "ttest[\"Age\"] = ttest[\"Fare\"].fillna(ttest[\"Fare\"].median())\n",
    "\n",
    "ttest[\"Sex\"][ttest[\"Sex\"] == \"male\"] = 0\n",
    "ttest[\"Sex\"][ttest[\"Sex\"] == \"female\"] = 1\n",
    "ttest[\"Embarked\"] = ttest[\"Embarked\"].fillna(\"S\")\n",
    "\n",
    "ttest[\"Embarked\"][ttest[\"Embarked\"] == \"S\"] = 0\n",
    "ttest[\"Embarked\"][ttest[\"Embarked\"] == \"C\"] = 1\n",
    "ttest[\"Embarked\"][ttest[\"Embarked\"] == \"Q\"] = 2\n",
    "\n",
    "\n",
    "# Extract the features from the test set: Pclass, Sex, Age, and Fare.\n",
    "test_features = ttest[[\"Pclass\",\"Sex\",\"Age\",\"Fare\"]].values\n",
    "\n",
    "# Make your prediction using the test set\n",
    "my_prediction = my_tree_one.predict(test_features)\n",
    "\n",
    "# Create a data frame with two columns: PassengerId & Survived. Survived contains your predictions\n",
    "PassengerId =np.array(test[\"PassengerId\"]).astype(int)\n",
    "my_solution = pd.DataFrame(my_prediction, PassengerId, columns = [\"Survived\"])\n",
    "#print(my_solution)\n",
    "\n",
    "# Check that your data frame has 418 entries\n",
    "print(my_solution.shape)\n",
    "\n",
    "# Write your solution to a csv file with the name my_solution.csv\n",
    "my_solution.to_csv(\"solucion1.csv\", index_label = [\"PassengerId\"])\n",
    "\n",
    "##############################################\n",
    "#######  #####################################\n",
    "######  ######################################\n",
    "#####  #######################################\n",
    "###Hasta aca es lo que hay que hacer completo#\n",
    "#####  #######################################\n",
    "######  ######################################\n",
    "#######  #####################################\n",
    "##############################################"
   ]
  },
  {
   "cell_type": "code",
   "execution_count": null,
   "metadata": {},
   "outputs": [],
   "source": [
    "# Create a new array with the added features: features_two\n",
    "\n",
    "target = ttrain[\"Survived\"].values\n",
    "features_two = ttrain[[\"Pclass\",\"Age\",\"Sex\",\"Fare\", \"SibSp\", \"Parch\", \"Embarked\"]].values\n",
    "\n",
    "\n",
    "\n",
    "#Control overfitting by setting \"max_depth\" to 10 and \"min_samples_split\" to 5 : my_tree_two\n",
    "max_depth = 10\n",
    "min_samples_split =5\n",
    "my_tree_two = tree.DecisionTreeClassifier(max_depth = 15, min_samples_split = 6, random_state = 1)\n",
    "\n",
    "my_tree_two = my_tree_two.fit(features_two, target)\n",
    "\n",
    "\n",
    "#Print the score of the new decison tree\n",
    "print (\"score with max_depth = 15, min_samples_split = 6, random_state = 1 \")\n",
    "print(my_tree_two.score(features_two, target))\n",
    "\n",
    "\n"
   ]
  },
  {
   "cell_type": "code",
   "execution_count": null,
   "metadata": {},
   "outputs": [],
   "source": [
    "\n",
    "ttest=ttest.copy()\n",
    "\n",
    "# Extract the features from the test set: Pclass, Sex, Age, and Fare.\n",
    "test_features2 = ttest[[\"Pclass\",\"Sex\",\"Age\",\"Fare\", \"SibSp\", \"Parch\", \"Embarked\"]].values\n",
    "\n",
    "# Make your prediction using the test set\n",
    "my_prediction2 = my_tree_two.predict(test_features2)\n",
    "\n",
    "\n",
    "PassengerId =np.array(test[\"PassengerId\"]).astype(int)\n",
    "my_solution2 = pd.DataFrame(my_prediction2, PassengerId, columns = [\"Survived\"])\n",
    "\n",
    "\n",
    "my_solution2.to_csv(\"solucion2.csv\", index_label = [\"PassengerId\"])\n",
    "print(my_solution2)\n",
    "\n",
    "\n"
   ]
  },
  {
   "cell_type": "code",
   "execution_count": null,
   "metadata": {},
   "outputs": [],
   "source": [
    "\n",
    "\n",
    "ttrain = ttrain.copy()\n",
    "ttrain[\"Family_Size\"] = ttrain[\"SibSp\"].values + ttrain[\"Parch\"].values + 1\n",
    "\n",
    "target = ttrain[\"Survived\"].values\n",
    "# Create a new feature set and add the new feature\n",
    "features2 = ttrain[[\"Pclass\", \"Sex\", \"Age\", \"Fare\", \"SibSp\", \"Parch\",\"Embarked\", \"Family_Size\"]].values\n",
    "\n",
    "# Define the tree classifier, then fit the model\n",
    "my_tree_2 = tree.DecisionTreeClassifier()\n",
    "my_tree_2 = my_tree_2.fit(features2, target)\n",
    "\n",
    "\n",
    "# Print the score of this decision tree\n",
    "print(\"with the new Feature\")\n",
    "print(my_tree_2.score(features2, target))"
   ]
  },
  {
   "cell_type": "code",
   "execution_count": null,
   "metadata": {},
   "outputs": [],
   "source": [
    "#Test\n",
    "ttest=ttest.copy()\n",
    "ttest[\"Family_Size\"] = ttest[\"SibSp\"].values + ttest[\"Parch\"].values + 1\n",
    "\n",
    "\n",
    "# Extract the features from the test set: Pclass, Sex, Age, and Fare.\n",
    "test_features2 = ttest[[\"Pclass\",\"Sex\",\"Age\",\"Fare\", \"SibSp\", \"Parch\", \"Embarked\",\"Family_Size\"]].values\n",
    "\n",
    "# Make your prediction using the test set\n",
    "my_prediction2 = my_tree_2.predict(test_features2)\n",
    "\n",
    "\n",
    "PassengerId =np.array(test[\"PassengerId\"]).astype(int)\n",
    "my_solution2 = pd.DataFrame(my_prediction2, PassengerId, columns = [\"Survived\"])\n",
    "\n",
    "\n",
    "my_solution2.to_csv(\"solucion2FamiliySize.csv\", index_label = [\"PassengerId\"])\n",
    "print(my_solution2)\n"
   ]
  },
  {
   "cell_type": "code",
   "execution_count": null,
   "metadata": {},
   "outputs": [],
   "source": [
    "\n",
    "# Import the `RandomForestClassifier`\n",
    "from sklearn.ensemble import RandomForestClassifier\n",
    "\n",
    "\n",
    "\n",
    "# Building and fitting my_forest\n",
    "# We want the Pclass, Age, Sex, Fare,SibSp, Parch, and Embarked variables\n",
    "\n",
    "train_forest = train[[\"Pclass\", \"Age\", \"Sex\", \"Fare\", \"SibSp\", \"Parch\", \"Embarked\"]]\n",
    "\n",
    "\n",
    "# Convert the male and female groups to integer form\n",
    "train_forest[\"Sex\"][train_forest[\"Sex\"] == \"male\"] = 0\n",
    "train_forest[\"Sex\"][train_forest[\"Sex\"] == \"female\"] = 1\n",
    "# Impute the Embarked variable\n",
    "train_forest[\"Embarked\"] = train_forest[\"Embarked\"].fillna(\"S\")\n",
    "\n",
    "# Convert the Embarked classes to integer form\n",
    "train_forest[\"Embarked\"][train_forest[\"Embarked\"] == \"S\"] = 0\n",
    "train_forest[\"Embarked\"][train_forest[\"Embarked\"] == \"C\"] = 1\n",
    "train_forest[\"Embarked\"][train_forest[\"Embarked\"] == \"Q\"] = 2\n",
    "\n",
    "\n",
    "train_forest[\"Age\"] = train_forest[\"Age\"].fillna(train_forest[\"Age\"].median())\n",
    "train_forest[\"Fare\"] = train_forest[\"Fare\"].fillna(train_forest[\"Fare\"].median())\n",
    "\n",
    "\n",
    "\n",
    "\n",
    "target = train[\"Survived\"].values\n",
    "features_forest = train_forest[[\"Pclass\", \"Age\", \"Sex\", \"Fare\", \"SibSp\", \"Parch\", \"Embarked\"]].values\n",
    "\n",
    "\n",
    "\n",
    "forest = RandomForestClassifier( n_estimators = 150, random_state = 1)\n",
    "my_forest = forest.fit(features_forest, target)\n",
    "\n",
    "# Print the score of the fitted random forest\n",
    "print(my_forest.score(features_forest, target))\n",
    "\n",
    "# Compute predictions on our test set features then print the length of the prediction vector\n",
    "\n",
    "test_forest = test[[\"Pclass\", \"Age\", \"Sex\", \"Fare\", \"SibSp\", \"Parch\", \"Embarked\"]]\n",
    "\n",
    "\n",
    "test_forest[\"Age\"] = test_forest[\"Age\"].fillna(test_forest[\"Age\"].median())\n",
    "test_forest[\"Fare\"] = test_forest[\"Fare\"].fillna(test_forest[\"Fare\"].median())\n",
    "\n",
    "\n",
    "# Convert the male and female groups to integer form\n",
    "test_forest[\"Sex\"][test_forest[\"Sex\"] == \"male\"] = 0\n",
    "test_forest[\"Sex\"][test_forest[\"Sex\"] == \"female\"] = 1\n",
    "# Impute the Embarked variable\n",
    "test_forest[\"Embarked\"] = test_forest[\"Embarked\"].fillna(\"S\")\n",
    "\n",
    "# Convert the Embarked classes to integer form\n",
    "test_forest[\"Embarked\"][test_forest[\"Embarked\"] == \"S\"] = 0\n",
    "test_forest[\"Embarked\"][test_forest[\"Embarked\"] == \"C\"] = 1\n",
    "test_forest[\"Embarked\"][test_forest[\"Embarked\"] == \"Q\"] = 2\n",
    "\n",
    "test_features_forest = test_forest[[\"Pclass\", \"Age\", \"Sex\", \"Fare\", \"SibSp\", \"Parch\", \"Embarked\"]].values\n",
    "#Print the Sex and Embarked columns\n",
    "print(test_features_forest)\n",
    "\n",
    "\n",
    "\n",
    "\n",
    "\n",
    "pred_forest = my_forest.predict(test_features_forest)\n",
    "\n",
    "print(len(pred_forest))"
   ]
  },
  {
   "cell_type": "code",
   "execution_count": null,
   "metadata": {},
   "outputs": [],
   "source": [
    "#Request and print the `.feature_importances_` attribute\n",
    "print(my_tree_2.feature_importances_)\n",
    "print(my_forest.feature_importances_)\n",
    "\n",
    "#Compute and print the mean accuracy score for both models\n",
    "print(my_tree_2.score(features2, target))\n",
    "print(my_forest.score(features_forest, target))"
   ]
  },
  {
   "cell_type": "code",
   "execution_count": null,
   "metadata": {
    "collapsed": true
   },
   "outputs": [],
   "source": [
    "my_solution_forest = pd.DataFrame(pred_forest, PassengerId, columns = [\"Survived\"])\n",
    "\n",
    "my_solution_forest.to_csv(\"solucionWithForest.csv\", index_label = [\"PassengerId\"])"
   ]
  },
  {
   "cell_type": "code",
   "execution_count": null,
   "metadata": {
    "collapsed": true
   },
   "outputs": [],
   "source": []
  },
  {
   "cell_type": "code",
   "execution_count": null,
   "metadata": {
    "collapsed": true
   },
   "outputs": [],
   "source": []
  }
 ],
 "metadata": {
  "kernelspec": {
   "display_name": "Python 3",
   "language": "python",
   "name": "python3"
  },
  "language_info": {
   "codemirror_mode": {
    "name": "ipython",
    "version": 3
   },
   "file_extension": ".py",
   "mimetype": "text/x-python",
   "name": "python",
   "nbconvert_exporter": "python",
   "pygments_lexer": "ipython3",
   "version": "3.6.3"
  }
 },
 "nbformat": 4,
 "nbformat_minor": 2
}
